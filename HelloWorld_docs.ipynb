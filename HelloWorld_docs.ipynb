{
  "cells": [
    {
      "cell_type": "markdown",
      "metadata": {
        "id": "view-in-github",
        "colab_type": "text"
      },
      "source": [
        "<a href=\"https://colab.research.google.com/github/askaushal/techincal-discussion/blob/main/HelloWorld_docs.ipynb\" target=\"_parent\"><img src=\"https://colab.research.google.com/assets/colab-badge.svg\" alt=\"Open In Colab\"/></a>"
      ]
    },
    {
      "cell_type": "code",
      "execution_count": null,
      "metadata": {
        "id": "jKCeVqjIlsBj",
        "outputId": "07725cd4-9a0f-4c38-e74b-fb189111ea7e"
      },
      "outputs": [
        {
          "data": {
            "text/plain": [
              "'Hello!'"
            ]
          },
          "execution_count": 7,
          "metadata": {},
          "output_type": "execute_result"
        }
      ],
      "source": [
        "def helloworld(): \n",
        "    return \"Hello world!\"\n",
        "hello()\n"
      ]
    },
    {
      "cell_type": "markdown",
      "metadata": {
        "id": "Gq0dZBk0lsBm"
      },
      "source": [
        "# this is markdown of my code\n",
        "\n",
        "## its a hello world function that prints out Text \"Hello World\"\n",
        "\n",
        "* function returns fixed text\n",
        "* takes no input\n",
        "\n",
        "[reference](https://docs.github.com/en/get-started/writing-on-github/getting-started-with-writing-and-formatting-on-github/basic-writing-and-formatting-syntax)"
      ]
    }
  ],
  "metadata": {
    "kernelspec": {
      "display_name": "Python 3",
      "language": "python",
      "name": "python3"
    },
    "language_info": {
      "codemirror_mode": {
        "name": "ipython",
        "version": 3
      },
      "file_extension": ".py",
      "mimetype": "text/x-python",
      "name": "python",
      "nbconvert_exporter": "python",
      "pygments_lexer": "ipython3",
      "version": "3.7.6"
    },
    "colab": {
      "name": "HelloWorld-docs.ipynb",
      "provenance": [],
      "include_colab_link": true
    }
  },
  "nbformat": 4,
  "nbformat_minor": 0
}